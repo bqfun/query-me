{
 "cells": [
  {
   "cell_type": "markdown",
   "metadata": {},
   "source": [
    "# RFM分析\n",
    "\n",
    "購買履歴から人単位の以下を計算するクエリです。 （R：直近購入日 、F：購入回数合計、M：購入金額合計）"
   ]
  },
  {
   "cell_type": "code",
   "execution_count": 3,
   "metadata": {
    "pycharm": {
     "name": "#%%\n"
    }
   },
   "outputs": [],
   "source": [
    "%LOAD example.db"
   ]
  },
  {
   "cell_type": "code",
   "execution_count": 4,
   "metadata": {
    "pycharm": {
     "name": "#%%\n"
    }
   },
   "outputs": [
    {
     "data": {
      "text/html": [
       "<table>\n",
       "<tr>\n",
       "<th>date</th>\n",
       "<th>amount</th>\n",
       "</tr>\n",
       "<tr>\n",
       "<td>2021-09-01</td>\n",
       "<td>500</td>\n",
       "</tr>\n",
       "<tr>\n",
       "<td>2021-09-02</td>\n",
       "<td>350</td>\n",
       "</tr>\n",
       "<tr>\n",
       "<td>2021-09-04</td>\n",
       "<td>700</td>\n",
       "</tr>\n",
       "</table>"
      ],
      "text/plain": [
       "+------------+--------+\n",
       "| date       | amount |\n",
       "+------------+--------+\n",
       "| 2021-09-01 | 500    |\n",
       "+------------+--------+\n",
       "| 2021-09-02 | 350    |\n",
       "+------------+--------+\n",
       "| 2021-09-04 | 700    |\n",
       "+------------+--------+"
      ]
     },
     "execution_count": 4,
     "metadata": {},
     "output_type": "execute_result"
    }
   ],
   "source": [
    "WITH purchases AS (\n",
    "  SELECT DATETIME(\"2021-09-01 12:34:56\") AS timestamp, 500 AS amount\n",
    "  UNION ALL\n",
    "  SELECT DATETIME(\"2021-09-02 01:12:23\") AS timestamp, 150 AS amount\n",
    "  UNION ALL\n",
    "  SELECT DATETIME(\"2021-09-02 12:23:34\") AS timestamp, 200 AS amount\n",
    "  UNION ALL\n",
    "  SELECT DATETIME(\"2021-09-04 11:11:11\") AS timestamp, 700 AS amount\n",
    ")\n",
    "SELECT\n",
    "  DATE(timestamp) AS date,\n",
    "  SUM(amount) AS amount\n",
    "FROM\n",
    "  purchases\n",
    "GROUP BY\n",
    "  date\n",
    "ORDER BY\n",
    "  date"
   ]
  }
 ],
 "metadata": {
  "kernelspec": {
   "display_name": "xsqlite",
   "language": "sqlite",
   "name": "xsqlite"
  },
  "language_info": {
   "codemirror_mode": "sql",
   "file_extension": "",
   "mimetype": "",
   "name": "sqlite3",
   "version": "3.33.0"
  }
 },
 "nbformat": 4,
 "nbformat_minor": 4
}
