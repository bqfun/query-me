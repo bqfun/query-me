{
 "cells": [
  {
   "cell_type": "markdown",
   "metadata": {},
   "source": [
    "# 日付別の売り上げ\n",
    "\n",
    "購買履歴から日付別の売上を計算するクエリです。"
   ]
  },
  {
   "cell_type": "code",
   "execution_count": null,
   "outputs": [],
   "source": [
    "%LOAD sqlite3 db=example.db"
   ],
   "metadata": {
    "collapsed": false,
    "pycharm": {
     "name": "#%%\n"
    }
   }
  },
  {
   "cell_type": "code",
   "execution_count": null,
   "metadata": {
    "pycharm": {
     "name": "#%%\n"
    }
   },
   "outputs": [],
   "source": [
    "WITH purchases AS (\n",
    "  SELECT DATETIME(\"2021-09-01 12:34:56\") AS timestamp, 500 AS amount\n",
    "  UNION ALL\n",
    "  SELECT DATETIME(\"2021-09-02 01:12:23\") AS timestamp, 150 AS amount\n",
    "  UNION ALL\n",
    "  SELECT DATETIME(\"2021-09-02 12:23:34\") AS timestamp, 200 AS amount\n",
    "  UNION ALL\n",
    "  SELECT DATETIME(\"2021-09-04 11:11:11\") AS timestamp, 700 AS amount\n",
    ")\n",
    "SELECT\n",
    "  DATE(timestamp) AS date,\n",
    "  SUM(amount) AS amount\n",
    "FROM\n",
    "  purchases\n",
    "GROUP BY\n",
    "  date\n",
    "ORDER BY\n",
    "  date"
   ]
  }
 ],
 "metadata": {
  "kernelspec": {
   "name": "xsql",
   "language": "sqlite",
   "display_name": "xsql"
  }
 },
 "nbformat": 4,
 "nbformat_minor": 4
}
