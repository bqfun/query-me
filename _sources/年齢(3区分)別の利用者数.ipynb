{
 "cells": [
  {
   "cell_type": "markdown",
   "id": "83665fa6",
   "metadata": {},
   "source": [
    "# 年齢(3区分)別の利用者数\n",
    "\n",
    "利用者のテーブル(users)から、主要な利用者を把握して、サービスの改善に繋げます。\n",
    "今回は、年齢性別を区分しますが、仮説に応じて様々な観点で分析することが重要です。"
   ]
  },
  {
   "cell_type": "code",
   "execution_count": 1,
   "id": "fa0400e7",
   "metadata": {},
   "outputs": [],
   "source": [
    "%LOAD example.db"
   ]
  },
  {
   "cell_type": "code",
   "execution_count": 2,
   "id": "75c3aa38",
   "metadata": {},
   "outputs": [
    {
     "data": {
      "text/html": [
       "<table>\n",
       "<tr>\n",
       "<th>id</th>\n",
       "<th>name</th>\n",
       "<th>birthdate</th>\n",
       "<th>sex</th>\n",
       "</tr>\n",
       "<tr>\n",
       "<td>1</td>\n",
       "<td>田中 洋介</td>\n",
       "<td>1960-06-27</td>\n",
       "<td>M</td>\n",
       "</tr>\n",
       "<tr>\n",
       "<td>2</td>\n",
       "<td>佐藤 直樹</td>\n",
       "<td>1961-03-07</td>\n",
       "<td>M</td>\n",
       "</tr>\n",
       "<tr>\n",
       "<td>3</td>\n",
       "<td>佐藤 英樹</td>\n",
       "<td>1912-04-24</td>\n",
       "<td>M</td>\n",
       "</tr>\n",
       "<tr>\n",
       "<td>4</td>\n",
       "<td>田中 知実</td>\n",
       "<td>1953-03-06</td>\n",
       "<td>F</td>\n",
       "</tr>\n",
       "<tr>\n",
       "<td>5</td>\n",
       "<td>佐々木 充</td>\n",
       "<td>1919-03-29</td>\n",
       "<td>M</td>\n",
       "</tr>\n",
       "</table>"
      ],
      "text/plain": [
       "+----+---------------+------------+-----+\n",
       "| id | name          | birthdate  | sex |\n",
       "+----+---------------+------------+-----+\n",
       "| 1  | 田中 洋介 | 1960-06-27 | M   |\n",
       "+----+---------------+------------+-----+\n",
       "| 2  | 佐藤 直樹 | 1961-03-07 | M   |\n",
       "+----+---------------+------------+-----+\n",
       "| 3  | 佐藤 英樹 | 1912-04-24 | M   |\n",
       "+----+---------------+------------+-----+\n",
       "| 4  | 田中 知実 | 1953-03-06 | F   |\n",
       "+----+---------------+------------+-----+\n",
       "| 5  | 佐々木 充 | 1919-03-29 | M   |\n",
       "+----+---------------+------------+-----+"
      ]
     },
     "execution_count": 2,
     "metadata": {},
     "output_type": "execute_result"
    }
   ],
   "source": [
    "SELECT\n",
    "  *\n",
    "FROM\n",
    "  users\n",
    "LIMIT\n",
    "  5"
   ]
  },
  {
   "cell_type": "markdown",
   "id": "4b41c513",
   "metadata": {},
   "source": [
    "## 生年月日から年齢を求める\n",
    "生年月日を管理している場合は、計算日との差分によって年齢を算出します。"
   ]
  },
  {
   "cell_type": "code",
   "execution_count": 3,
   "id": "14ec7e56",
   "metadata": {},
   "outputs": [
    {
     "data": {
      "text/html": [
       "<table>\n",
       "<tr>\n",
       "<th>id</th>\n",
       "<th>name</th>\n",
       "<th>birthdate</th>\n",
       "<th>sex</th>\n",
       "<th>age</th>\n",
       "</tr>\n",
       "<tr>\n",
       "<td>1</td>\n",
       "<td>田中 洋介</td>\n",
       "<td>1960-06-27</td>\n",
       "<td>M</td>\n",
       "<td>61</td>\n",
       "</tr>\n",
       "<tr>\n",
       "<td>2</td>\n",
       "<td>佐藤 直樹</td>\n",
       "<td>1961-03-07</td>\n",
       "<td>M</td>\n",
       "<td>60</td>\n",
       "</tr>\n",
       "<tr>\n",
       "<td>3</td>\n",
       "<td>佐藤 英樹</td>\n",
       "<td>1912-04-24</td>\n",
       "<td>M</td>\n",
       "<td>109</td>\n",
       "</tr>\n",
       "<tr>\n",
       "<td>4</td>\n",
       "<td>田中 知実</td>\n",
       "<td>1953-03-06</td>\n",
       "<td>F</td>\n",
       "<td>68</td>\n",
       "</tr>\n",
       "<tr>\n",
       "<td>5</td>\n",
       "<td>佐々木 充</td>\n",
       "<td>1919-03-29</td>\n",
       "<td>M</td>\n",
       "<td>102</td>\n",
       "</tr>\n",
       "</table>"
      ],
      "text/plain": [
       "+----+---------------+------------+-----+-----+\n",
       "| id | name          | birthdate  | sex | age |\n",
       "+----+---------------+------------+-----+-----+\n",
       "| 1  | 田中 洋介 | 1960-06-27 | M   | 61  |\n",
       "+----+---------------+------------+-----+-----+\n",
       "| 2  | 佐藤 直樹 | 1961-03-07 | M   | 60  |\n",
       "+----+---------------+------------+-----+-----+\n",
       "| 3  | 佐藤 英樹 | 1912-04-24 | M   | 109 |\n",
       "+----+---------------+------------+-----+-----+\n",
       "| 4  | 田中 知実 | 1953-03-06 | F   | 68  |\n",
       "+----+---------------+------------+-----+-----+\n",
       "| 5  | 佐々木 充 | 1919-03-29 | M   | 102 |\n",
       "+----+---------------+------------+-----+-----+"
      ]
     },
     "execution_count": 3,
     "metadata": {},
     "output_type": "execute_result"
    }
   ],
   "source": [
    "SELECT\n",
    "  *,\n",
    "  -- 年齢を求める。SQLite以外では別な求め方になるはずです。\n",
    "  CAST(STRFTIME('%Y.%m%d', 'now', '+9 hours') - STRFTIME('%Y.%m%d', birthdate) AS INT) AS age\n",
    "FROM\n",
    "  users\n",
    "LIMIT\n",
    "  5"
   ]
  },
  {
   "cell_type": "markdown",
   "id": "3e0bbccb",
   "metadata": {},
   "source": [
    "## 年齢から年齢区分を定める\n",
    "近い年齢を`CASE`文でグループ名にマッピングして集計しやすくする。"
   ]
  },
  {
   "cell_type": "code",
   "execution_count": 4,
   "id": "551a4d37",
   "metadata": {},
   "outputs": [
    {
     "data": {
      "text/html": [
       "<table>\n",
       "<tr>\n",
       "<th>id</th>\n",
       "<th>name</th>\n",
       "<th>birthdate</th>\n",
       "<th>sex</th>\n",
       "<th>age</th>\n",
       "<th>age_category</th>\n",
       "</tr>\n",
       "<tr>\n",
       "<td>1</td>\n",
       "<td>田中 洋介</td>\n",
       "<td>1960-06-27</td>\n",
       "<td>M</td>\n",
       "<td>61</td>\n",
       "<td>15～64歳</td>\n",
       "</tr>\n",
       "<tr>\n",
       "<td>2</td>\n",
       "<td>佐藤 直樹</td>\n",
       "<td>1961-03-07</td>\n",
       "<td>M</td>\n",
       "<td>60</td>\n",
       "<td>15～64歳</td>\n",
       "</tr>\n",
       "<tr>\n",
       "<td>3</td>\n",
       "<td>佐藤 英樹</td>\n",
       "<td>1912-04-24</td>\n",
       "<td>M</td>\n",
       "<td>109</td>\n",
       "<td>65歳以上</td>\n",
       "</tr>\n",
       "<tr>\n",
       "<td>4</td>\n",
       "<td>田中 知実</td>\n",
       "<td>1953-03-06</td>\n",
       "<td>F</td>\n",
       "<td>68</td>\n",
       "<td>65歳以上</td>\n",
       "</tr>\n",
       "<tr>\n",
       "<td>5</td>\n",
       "<td>佐々木 充</td>\n",
       "<td>1919-03-29</td>\n",
       "<td>M</td>\n",
       "<td>102</td>\n",
       "<td>65歳以上</td>\n",
       "</tr>\n",
       "</table>"
      ],
      "text/plain": [
       "+----+---------------+------------+-----+-----+--------------+\n",
       "| id | name          | birthdate  | sex | age | age_category |\n",
       "+----+---------------+------------+-----+-----+--------------+\n",
       "| 1  | 田中 洋介 | 1960-06-27 | M   | 61  | 15～64歳   |\n",
       "+----+---------------+------------+-----+-----+--------------+\n",
       "| 2  | 佐藤 直樹 | 1961-03-07 | M   | 60  | 15～64歳   |\n",
       "+----+---------------+------------+-----+-----+--------------+\n",
       "| 3  | 佐藤 英樹 | 1912-04-24 | M   | 109 | 65歳以上  |\n",
       "+----+---------------+------------+-----+-----+--------------+\n",
       "| 4  | 田中 知実 | 1953-03-06 | F   | 68  | 65歳以上  |\n",
       "+----+---------------+------------+-----+-----+--------------+\n",
       "| 5  | 佐々木 充 | 1919-03-29 | M   | 102 | 65歳以上  |\n",
       "+----+---------------+------------+-----+-----+--------------+"
      ]
     },
     "execution_count": 4,
     "metadata": {},
     "output_type": "execute_result"
    }
   ],
   "source": [
    "WITH users_with_age AS (\n",
    "  SELECT\n",
    "    *,\n",
    "    -- 年齢を求める。SQLite以外では別な求め方になるはずです。\n",
    "    CAST(STRFTIME('%Y.%m%d', 'now', '+9 hours') - STRFTIME('%Y.%m%d', birthdate) AS INT) AS age\n",
    "  FROM\n",
    "    users\n",
    ")\n",
    "SELECT\n",
    "  *,\n",
    "  CASE\n",
    "    WHEN age BETWEEN 0 AND 14 THEN '14歳以下'\n",
    "    WHEN age BETWEEN 15 AND 64 THEN '15～64歳'\n",
    "    WHEN 65 <= age THEN '65歳以上'\n",
    "  END AS age_category\n",
    "FROM\n",
    "  users_with_age\n",
    "LIMIT\n",
    "  5"
   ]
  },
  {
   "cell_type": "markdown",
   "id": "ea892cea",
   "metadata": {},
   "source": [
    "## 年齢区分と性別から人数を定める\n",
    "年齢区分と性別をグルーピングして、どんな属性の利用者が多いのか特定する。"
   ]
  },
  {
   "cell_type": "code",
   "execution_count": 5,
   "id": "d639f7e3",
   "metadata": {},
   "outputs": [
    {
     "data": {
      "text/html": [
       "<table>\n",
       "<tr>\n",
       "<th>age_category</th>\n",
       "<th>sex</th>\n",
       "<th>count</th>\n",
       "</tr>\n",
       "<tr>\n",
       "<td>14歳以下</td>\n",
       "<td>F</td>\n",
       "<td>75</td>\n",
       "</tr>\n",
       "<tr>\n",
       "<td>14歳以下</td>\n",
       "<td>M</td>\n",
       "<td>58</td>\n",
       "</tr>\n",
       "<tr>\n",
       "<td>15～64歳</td>\n",
       "<td>F</td>\n",
       "<td>219</td>\n",
       "</tr>\n",
       "<tr>\n",
       "<td>15～64歳</td>\n",
       "<td>M</td>\n",
       "<td>219</td>\n",
       "</tr>\n",
       "<tr>\n",
       "<td>65歳以上</td>\n",
       "<td>F</td>\n",
       "<td>217</td>\n",
       "</tr>\n",
       "<tr>\n",
       "<td>65歳以上</td>\n",
       "<td>M</td>\n",
       "<td>212</td>\n",
       "</tr>\n",
       "</table>"
      ],
      "text/plain": [
       "+--------------+-----+-------+\n",
       "| age_category | sex | count |\n",
       "+--------------+-----+-------+\n",
       "| 14歳以下  | F   | 75    |\n",
       "+--------------+-----+-------+\n",
       "| 14歳以下  | M   | 58    |\n",
       "+--------------+-----+-------+\n",
       "| 15～64歳   | F   | 219   |\n",
       "+--------------+-----+-------+\n",
       "| 15～64歳   | M   | 219   |\n",
       "+--------------+-----+-------+\n",
       "| 65歳以上  | F   | 217   |\n",
       "+--------------+-----+-------+\n",
       "| 65歳以上  | M   | 212   |\n",
       "+--------------+-----+-------+"
      ]
     },
     "execution_count": 5,
     "metadata": {},
     "output_type": "execute_result"
    }
   ],
   "source": [
    "WITH users_with_age AS (\n",
    "  SELECT\n",
    "    *,\n",
    "    -- 年齢を求める。SQLite以外では別な求め方になるはずです。\n",
    "    CAST(STRFTIME('%Y.%m%d', 'now', '+9 hours') - STRFTIME('%Y.%m%d', birthdate) AS INT) AS age\n",
    "  FROM\n",
    "    users\n",
    "), users_with_age_category AS (\n",
    "  SELECT\n",
    "    *,\n",
    "    CASE\n",
    "      WHEN age BETWEEN 0 AND 14 THEN '14歳以下'\n",
    "      WHEN age BETWEEN 15 AND 64 THEN '15～64歳'\n",
    "      WHEN 65 <= age THEN '65歳以上'\n",
    "    END AS age_category\n",
    "  FROM\n",
    "    users_with_age\n",
    ")\n",
    "SELECT\n",
    "  age_category,\n",
    "  sex,\n",
    "  COUNT(*) AS count\n",
    "FROM\n",
    "  users_with_age_category\n",
    "GROUP BY\n",
    "  age_category,\n",
    "  sex\n",
    "ORDER BY\n",
    "  age_category,\n",
    "  sex"
   ]
  }
 ],
 "metadata": {
  "jupytext": {
   "text_representation": {
    "format_name": "myst"
   }
  },
  "kernelspec": {
   "display_name": "xsqlite",
   "name": "xsqlite"
  },
  "language_info": {
   "codemirror_mode": "sql",
   "file_extension": "",
   "mimetype": "",
   "name": "sqlite3",
   "version": "3.33.0"
  },
  "source_map": [
   8,
   15,
   19,
   26,
   31,
   40,
   45,
   65,
   70
  ]
 },
 "nbformat": 4,
 "nbformat_minor": 5
}