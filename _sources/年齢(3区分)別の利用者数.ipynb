{
 "cells": [
  {
   "cell_type": "markdown",
   "id": "8205b2b7",
   "metadata": {},
   "source": [
    "# 年齢(3区分)別の利用者数\n",
    "\n",
    "利用者のテーブル(users)から、主要な利用者を把握して、サービスの改善に繋げます。\n",
    "今回は、年齢性別を区分しますが、仮説に応じて様々な観点で分析することが重要です。"
   ]
  },
  {
   "cell_type": "code",
   "execution_count": 1,
   "id": "3e76dfee",
   "metadata": {},
   "outputs": [],
   "source": [
    "%LOAD sqlite3 db=example.db"
   ]
  },
  {
   "cell_type": "code",
   "execution_count": 2,
   "id": "fd24ea5a",
   "metadata": {},
   "outputs": [
    {
     "data": {
      "text/html": [
       "<table>\n",
       "<tr>\n",
       "<th>id</th>\n",
       "<th>name</th>\n",
       "<th>birthdate</th>\n",
       "<th>sex</th>\n",
       "</tr>\n",
       "<tr>\n",
       "<td>1</td>\n",
       "<td>田中 洋介</td>\n",
       "<td>1960-06-27</td>\n",
       "<td>M</td>\n",
       "</tr>\n",
       "<tr>\n",
       "<td>2</td>\n",
       "<td>佐藤 直樹</td>\n",
       "<td>1961-03-07</td>\n",
       "<td>M</td>\n",
       "</tr>\n",
       "<tr>\n",
       "<td>3</td>\n",
       "<td>佐藤 英樹</td>\n",
       "<td>1912-04-24</td>\n",
       "<td>M</td>\n",
       "</tr>\n",
       "<tr>\n",
       "<td>4</td>\n",
       "<td>田中 知実</td>\n",
       "<td>1953-03-06</td>\n",
       "<td>F</td>\n",
       "</tr>\n",
       "<tr>\n",
       "<td>5</td>\n",
       "<td>佐々木 充</td>\n",
       "<td>1919-03-29</td>\n",
       "<td>M</td>\n",
       "</tr>\n",
       "</table>\n",
       "5 rows in set (0.00 sec)"
      ],
      "text/plain": [
       "+----+---------------+------------+-----+\n",
       "| id | name          | birthdate  | sex |\n",
       "+----+---------------+------------+-----+\n",
       "| 1  | 田中 洋介 | 1960-06-27 | M   |\n",
       "+----+---------------+------------+-----+\n",
       "| 2  | 佐藤 直樹 | 1961-03-07 | M   |\n",
       "+----+---------------+------------+-----+\n",
       "| 3  | 佐藤 英樹 | 1912-04-24 | M   |\n",
       "+----+---------------+------------+-----+\n",
       "| 4  | 田中 知実 | 1953-03-06 | F   |\n",
       "+----+---------------+------------+-----+\n",
       "| 5  | 佐々木 充 | 1919-03-29 | M   |\n",
       "+----+---------------+------------+-----+\n",
       "5 rows in set (0.00 sec)"
      ]
     },
     "execution_count": 2,
     "metadata": {},
     "output_type": "execute_result"
    }
   ],
   "source": [
    "SELECT\n",
    "  *\n",
    "FROM\n",
    "  users\n",
    "LIMIT\n",
    "  5"
   ]
  },
  {
   "cell_type": "markdown",
   "id": "ea2061b2",
   "metadata": {},
   "source": [
    "## 生年月日から年齢を求める\n",
    "生年月日を管理している場合は、計算日との差分によって年齢を算出します。"
   ]
  },
  {
   "cell_type": "code",
   "execution_count": 3,
   "id": "d2b8368e",
   "metadata": {},
   "outputs": [
    {
     "data": {
      "text/html": [
       "<table>\n",
       "<tr>\n",
       "<th>id</th>\n",
       "<th>name</th>\n",
       "<th>birthdate</th>\n",
       "<th>sex</th>\n",
       "<th>age</th>\n",
       "</tr>\n",
       "<tr>\n",
       "<td>1</td>\n",
       "<td>田中 洋介</td>\n",
       "<td>1960-06-27</td>\n",
       "<td>M</td>\n",
       "<td>61</td>\n",
       "</tr>\n",
       "<tr>\n",
       "<td>2</td>\n",
       "<td>佐藤 直樹</td>\n",
       "<td>1961-03-07</td>\n",
       "<td>M</td>\n",
       "<td>60</td>\n",
       "</tr>\n",
       "<tr>\n",
       "<td>3</td>\n",
       "<td>佐藤 英樹</td>\n",
       "<td>1912-04-24</td>\n",
       "<td>M</td>\n",
       "<td>109</td>\n",
       "</tr>\n",
       "<tr>\n",
       "<td>4</td>\n",
       "<td>田中 知実</td>\n",
       "<td>1953-03-06</td>\n",
       "<td>F</td>\n",
       "<td>68</td>\n",
       "</tr>\n",
       "<tr>\n",
       "<td>5</td>\n",
       "<td>佐々木 充</td>\n",
       "<td>1919-03-29</td>\n",
       "<td>M</td>\n",
       "<td>102</td>\n",
       "</tr>\n",
       "</table>\n",
       "5 rows in set (0.00 sec)"
      ],
      "text/plain": [
       "+----+---------------+------------+-----+-----+\n",
       "| id | name          | birthdate  | sex | age |\n",
       "+----+---------------+------------+-----+-----+\n",
       "| 1  | 田中 洋介 | 1960-06-27 | M   | 61  |\n",
       "+----+---------------+------------+-----+-----+\n",
       "| 2  | 佐藤 直樹 | 1961-03-07 | M   | 60  |\n",
       "+----+---------------+------------+-----+-----+\n",
       "| 3  | 佐藤 英樹 | 1912-04-24 | M   | 109 |\n",
       "+----+---------------+------------+-----+-----+\n",
       "| 4  | 田中 知実 | 1953-03-06 | F   | 68  |\n",
       "+----+---------------+------------+-----+-----+\n",
       "| 5  | 佐々木 充 | 1919-03-29 | M   | 102 |\n",
       "+----+---------------+------------+-----+-----+\n",
       "5 rows in set (0.00 sec)"
      ]
     },
     "execution_count": 3,
     "metadata": {},
     "output_type": "execute_result"
    }
   ],
   "source": [
    "SELECT\n",
    "  *,\n",
    "  -- 年齢を求める。SQLite以外では別な求め方になるはずです。\n",
    "  CAST(STRFTIME('%Y.%m%d', 'now', '+9 hours') - STRFTIME('%Y.%m%d', birthdate) AS INT) AS age\n",
    "FROM\n",
    "  users\n",
    "LIMIT\n",
    "  5"
   ]
  },
  {
   "cell_type": "markdown",
   "id": "b13ab3c4",
   "metadata": {},
   "source": [
    "## 年齢から年齢区分を定める\n",
    "近い年齢を`CASE`文でグループ名にマッピングして集計しやすくする。"
   ]
  },
  {
   "cell_type": "code",
   "execution_count": 4,
   "id": "8b9d0e96",
   "metadata": {},
   "outputs": [],
   "source": [
    "WITH users_with_age AS (\n",
    "  SELECT\n",
    "    *,\n",
    "    -- 年齢を求める。SQLite以外では別な求め方になるはずです。\n",
    "    CAST(STRFTIME('%Y.%m%d', 'now', '+9 hours') - STRFTIME('%Y.%m%d', birthdate) AS INT) AS age\n",
    "  FROM\n",
    "    users\n",
    ")\n",
    "SELECT\n",
    "  *,\n",
    "  CASE\n",
    "    WHEN age BETWEEN 0 AND 14 THEN '14歳以下'\n",
    "    WHEN age BETWEEN 15 AND 64 THEN '15～64歳'\n",
    "    WHEN 65 <= age THEN '65歳以上'\n",
    "  END AS age_category\n",
    "FROM\n",
    "  users_with_age\n",
    "LIMIT\n",
    "  5"
   ]
  },
  {
   "cell_type": "markdown",
   "id": "8266e90b",
   "metadata": {},
   "source": [
    "## 年齢区分と性別から人数を定める\n",
    "年齢区分と性別をグルーピングして、どんな属性の利用者が多いのか特定する。"
   ]
  },
  {
   "cell_type": "code",
   "execution_count": 5,
   "id": "ab84f407",
   "metadata": {},
   "outputs": [],
   "source": [
    "WITH users_with_age AS (\n",
    "  SELECT\n",
    "    *,\n",
    "    -- 年齢を求める。SQLite以外では別な求め方になるはずです。\n",
    "    CAST(STRFTIME('%Y.%m%d', 'now', '+9 hours') - STRFTIME('%Y.%m%d', birthdate) AS INT) AS age\n",
    "  FROM\n",
    "    users\n",
    "), users_with_age_category AS (\n",
    "  SELECT\n",
    "    *,\n",
    "    CASE\n",
    "      WHEN age BETWEEN 0 AND 14 THEN '14歳以下'\n",
    "      WHEN age BETWEEN 15 AND 64 THEN '15～64歳'\n",
    "      WHEN 65 <= age THEN '65歳以上'\n",
    "    END AS age_category\n",
    "  FROM\n",
    "    users_with_age\n",
    ")\n",
    "SELECT\n",
    "  age_category,\n",
    "  sex,\n",
    "  COUNT(*) AS count\n",
    "FROM\n",
    "  users_with_age_category\n",
    "GROUP BY\n",
    "  age_category,\n",
    "  sex\n",
    "ORDER BY\n",
    "  age_category,\n",
    "  sex"
   ]
  }
 ],
 "metadata": {
  "jupytext": {
   "text_representation": {
    "format_name": "myst"
   }
  },
  "kernelspec": {
   "display_name": "xsql",
   "name": "xsql"
  },
  "language_info": {
   "codemirror_mode": "sql",
   "file_extension": "",
   "mimetype": "",
   "name": "mysql",
   "version": "0.1.2"
  },
  "source_map": [
   8,
   15,
   19,
   26,
   31,
   40,
   45,
   65,
   70
  ]
 },
 "nbformat": 4,
 "nbformat_minor": 5
}